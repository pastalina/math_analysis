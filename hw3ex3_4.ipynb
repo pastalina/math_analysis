{
  "nbformat": 4,
  "nbformat_minor": 0,
  "metadata": {
    "colab": {
      "name": "hw3ex3-4.ipynb",
      "provenance": [],
      "collapsed_sections": []
    },
    "kernelspec": {
      "name": "python3",
      "display_name": "Python 3"
    },
    "language_info": {
      "name": "python"
    }
  },
  "cells": [
    {
      "cell_type": "code",
      "metadata": {
        "colab": {
          "base_uri": "https://localhost:8080/"
        },
        "id": "vf47sx3PZMQL",
        "outputId": "7d35cac2-ba05-4f84-cffa-f69b8af2fb53"
      },
      "source": [
        "from sympy import factorial\n",
        "\n",
        "def f(n):\n",
        "  return n / pow(factorial(n), 1 / n)\n",
        "\n",
        "n = 1\n",
        "i = 1\n",
        "while True:\n",
        "  n += 1\n",
        "  i += 1\n",
        "  x = f(n)\n",
        "  if i == 22222:\n",
        "    break\n",
        "print(round(x, 7))"
      ],
      "execution_count": 16,
      "outputs": [
        {
          "output_type": "stream",
          "text": [
            "2.7175574\n"
          ],
          "name": "stdout"
        }
      ]
    },
    {
      "cell_type": "code",
      "metadata": {
        "colab": {
          "base_uri": "https://localhost:8080/"
        },
        "id": "Dd-Ps-KOwpaF",
        "outputId": "067b620b-3755-4b18-e88e-7138af4bb6ee"
      },
      "source": [
        "from sympy import factorial\n",
        "import math\n",
        "\n",
        "def f(n):\n",
        "  return math.e / pow((2 * math.pi * n), (1 / (2 * n)))\n",
        "\n",
        "n = 1\n",
        "i = 1\n",
        "while True:\n",
        "  n += 1\n",
        "  i += 1\n",
        "  x = f(n)\n",
        "  if i == 99999999:\n",
        "    break\n",
        "print(round(x, 7))"
      ],
      "execution_count": 19,
      "outputs": [
        {
          "output_type": "stream",
          "text": [
            "2.7182816\n"
          ],
          "name": "stdout"
        }
      ]
    }
  ]
}